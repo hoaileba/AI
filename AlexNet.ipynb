{
  "nbformat": 4,
  "nbformat_minor": 0,
  "metadata": {
    "colab": {
      "name": "AlexNet.ipynb",
      "provenance": [],
      "collapsed_sections": [],
      "authorship_tag": "ABX9TyNTgZs0FGQ+WTm7Hsz0bnrW",
      "include_colab_link": true
    },
    "kernelspec": {
      "name": "python3",
      "display_name": "Python 3"
    }
  },
  "cells": [
    {
      "cell_type": "markdown",
      "metadata": {
        "id": "view-in-github",
        "colab_type": "text"
      },
      "source": [
        "<a href=\"https://colab.research.google.com/github/hoaileba/AI/blob/master/AlexNet.ipynb\" target=\"_parent\"><img src=\"https://colab.research.google.com/assets/colab-badge.svg\" alt=\"Open In Colab\"/></a>"
      ]
    },
    {
      "cell_type": "code",
      "metadata": {
        "id": "Q-Z0a10Xq0p8",
        "colab_type": "code",
        "colab": {}
      },
      "source": [
        ""
      ],
      "execution_count": 0,
      "outputs": []
    },
    {
      "cell_type": "markdown",
      "metadata": {
        "id": "2YlBIaFhr1Cf",
        "colab_type": "text"
      },
      "source": [
        "#ALEXNET :\n",
        "\n",
        "Đây là 1 Kiến trúc của mạng CNN với số lượng tham số( params) lớn \n",
        "\n",
        "I) Kiến Trúc Của AlexNet:\n",
        "\n",
        "- AlexNet gồm có 8 layer : \n",
        "    \n",
        "    - Trong đó có 5 layer Convolution và 3 layer Fully connected kèm theo đó là các layer Maxpooling và layer Normalizetion\n",
        "    - 5 lớp convolution gồm\n",
        "      - 96 kernels of size 11 × 11 × 3 with step size 4\n",
        "      - 256 kernels of size 5 × 5 × 48* with step size 1\n",
        "      - 384 kernels of size 3 × 3 × 256 with step size 1\n",
        "      - 384 kernels of size 3 × 3 × 192* with step size 1\n",
        "      - 256 kernels of size 3 × 3 × 192* with step size 1\n",
        "    \n",
        "- AlextNet sử dụng hàm relu để thay thế cho những hàm activation như Tanh hoặc sigmod như LeNet vì khi sử dụng hàm này việc làm cho hiện tượng vanish gradient rất dễ xảy ra và cùng với đó hàm Relu khi được áp dụng tăng đáng kể thời gian huấn luyên \n",
        "- AlexNet sử dụng Local Response Normalization để chuẩn hóa làm tăng tốc độ hội tụ( nhưng hiện nay cũng ko còn dùng các LRN mà chuyển qua dùng là Batch Normalization)\n",
        "\n",
        "\n"
      ]
    },
    {
      "cell_type": "markdown",
      "metadata": {
        "id": "HjhgGLVtCK6U",
        "colab_type": "text"
      },
      "source": [
        ""
      ]
    },
    {
      "cell_type": "code",
      "metadata": {
        "id": "HgcspGoUCLPr",
        "colab_type": "code",
        "colab": {
          "base_uri": "https://localhost:8080/",
          "height": 34
        },
        "outputId": "6cb96634-eec7-42f2-861a-edc904dfd525"
      },
      "source": [
        "!git init"
      ],
      "execution_count": 1,
      "outputs": [
        {
          "output_type": "stream",
          "text": [
            "Initialized empty Git repository in /content/.git/\n"
          ],
          "name": "stdout"
        }
      ]
    },
    {
      "cell_type": "code",
      "metadata": {
        "id": "rZsm4Af9D8jR",
        "colab_type": "code",
        "colab": {
          "base_uri": "https://localhost:8080/",
          "height": 1000
        },
        "outputId": "768495c3-17b7-43d9-8a15-d799f7a3ecce"
      },
      "source": [
        "!git config — global user.email “hoailebals@gmail.com”\n",
        "!git config — global user.name “hoaileba”"
      ],
      "execution_count": 2,
      "outputs": [
        {
          "output_type": "stream",
          "text": [
            "usage: git config [<options>]\n",
            "\n",
            "Config file location\n",
            "    --global              use global config file\n",
            "    --system              use system config file\n",
            "    --local               use repository config file\n",
            "    -f, --file <file>     use given config file\n",
            "    --blob <blob-id>      read config from given blob object\n",
            "\n",
            "Action\n",
            "    --get                 get value: name [value-regex]\n",
            "    --get-all             get all values: key [value-regex]\n",
            "    --get-regexp          get values for regexp: name-regex [value-regex]\n",
            "    --get-urlmatch        get value specific for the URL: section[.var] URL\n",
            "    --replace-all         replace all matching variables: name value [value_regex]\n",
            "    --add                 add a new variable: name value\n",
            "    --unset               remove a variable: name [value-regex]\n",
            "    --unset-all           remove all matches: name [value-regex]\n",
            "    --rename-section      rename section: old-name new-name\n",
            "    --remove-section      remove a section: name\n",
            "    -l, --list            list all\n",
            "    -e, --edit            open an editor\n",
            "    --get-color           find the color configured: slot [default]\n",
            "    --get-colorbool       find the color setting: slot [stdout-is-tty]\n",
            "\n",
            "Type\n",
            "    --bool                value is \"true\" or \"false\"\n",
            "    --int                 value is decimal number\n",
            "    --bool-or-int         value is --bool or --int\n",
            "    --path                value is a path (file or directory name)\n",
            "    --expiry-date         value is an expiry date\n",
            "\n",
            "Other\n",
            "    -z, --null            terminate values with NUL byte\n",
            "    --name-only           show variable names only\n",
            "    --includes            respect include directives on lookup\n",
            "    --show-origin         show origin of config (file, standard input, blob, command line)\n",
            "\n",
            "usage: git config [<options>]\n",
            "\n",
            "Config file location\n",
            "    --global              use global config file\n",
            "    --system              use system config file\n",
            "    --local               use repository config file\n",
            "    -f, --file <file>     use given config file\n",
            "    --blob <blob-id>      read config from given blob object\n",
            "\n",
            "Action\n",
            "    --get                 get value: name [value-regex]\n",
            "    --get-all             get all values: key [value-regex]\n",
            "    --get-regexp          get values for regexp: name-regex [value-regex]\n",
            "    --get-urlmatch        get value specific for the URL: section[.var] URL\n",
            "    --replace-all         replace all matching variables: name value [value_regex]\n",
            "    --add                 add a new variable: name value\n",
            "    --unset               remove a variable: name [value-regex]\n",
            "    --unset-all           remove all matches: name [value-regex]\n",
            "    --rename-section      rename section: old-name new-name\n",
            "    --remove-section      remove a section: name\n",
            "    -l, --list            list all\n",
            "    -e, --edit            open an editor\n",
            "    --get-color           find the color configured: slot [default]\n",
            "    --get-colorbool       find the color setting: slot [stdout-is-tty]\n",
            "\n",
            "Type\n",
            "    --bool                value is \"true\" or \"false\"\n",
            "    --int                 value is decimal number\n",
            "    --bool-or-int         value is --bool or --int\n",
            "    --path                value is a path (file or directory name)\n",
            "    --expiry-date         value is an expiry date\n",
            "\n",
            "Other\n",
            "    -z, --null            terminate values with NUL byte\n",
            "    --name-only           show variable names only\n",
            "    --includes            respect include directives on lookup\n",
            "    --show-origin         show origin of config (file, standard input, blob, command line)\n",
            "\n"
          ],
          "name": "stdout"
        }
      ]
    },
    {
      "cell_type": "code",
      "metadata": {
        "id": "Y9Z1-swIEcJl",
        "colab_type": "code",
        "colab": {}
      },
      "source": [
        "!git add ."
      ],
      "execution_count": 0,
      "outputs": []
    },
    {
      "cell_type": "code",
      "metadata": {
        "id": "bhK8qay2E8PX",
        "colab_type": "code",
        "colab": {
          "base_uri": "https://localhost:8080/",
          "height": 1000
        },
        "outputId": "9af829be-1383-4b45-cfe2-c2cecf975f86"
      },
      "source": [
        ""
      ],
      "execution_count": 10,
      "outputs": [
        {
          "output_type": "stream",
          "text": [
            "error: pathspec 'commit”' did not match any file(s) known to git.\n",
            "usage: git config [<options>]\n",
            "\n",
            "Config file location\n",
            "    --global              use global config file\n",
            "    --system              use system config file\n",
            "    --local               use repository config file\n",
            "    -f, --file <file>     use given config file\n",
            "    --blob <blob-id>      read config from given blob object\n",
            "\n",
            "Action\n",
            "    --get                 get value: name [value-regex]\n",
            "    --get-all             get all values: key [value-regex]\n",
            "    --get-regexp          get values for regexp: name-regex [value-regex]\n",
            "    --get-urlmatch        get value specific for the URL: section[.var] URL\n",
            "    --replace-all         replace all matching variables: name value [value_regex]\n",
            "    --add                 add a new variable: name value\n",
            "    --unset               remove a variable: name [value-regex]\n",
            "    --unset-all           remove all matches: name [value-regex]\n",
            "    --rename-section      rename section: old-name new-name\n",
            "    --remove-section      remove a section: name\n",
            "    -l, --list            list all\n",
            "    -e, --edit            open an editor\n",
            "    --get-color           find the color configured: slot [default]\n",
            "    --get-colorbool       find the color setting: slot [stdout-is-tty]\n",
            "\n",
            "Type\n",
            "    --bool                value is \"true\" or \"false\"\n",
            "    --int                 value is decimal number\n",
            "    --bool-or-int         value is --bool or --int\n",
            "    --path                value is a path (file or directory name)\n",
            "    --expiry-date         value is an expiry date\n",
            "\n",
            "Other\n",
            "    -z, --null            terminate values with NUL byte\n",
            "    --name-only           show variable names only\n",
            "    --includes            respect include directives on lookup\n",
            "    --show-origin         show origin of config (file, standard input, blob, command line)\n",
            "\n",
            "usage: git config [<options>]\n",
            "\n",
            "Config file location\n",
            "    --global              use global config file\n",
            "    --system              use system config file\n",
            "    --local               use repository config file\n",
            "    -f, --file <file>     use given config file\n",
            "    --blob <blob-id>      read config from given blob object\n",
            "\n",
            "Action\n",
            "    --get                 get value: name [value-regex]\n",
            "    --get-all             get all values: key [value-regex]\n",
            "    --get-regexp          get values for regexp: name-regex [value-regex]\n",
            "    --get-urlmatch        get value specific for the URL: section[.var] URL\n",
            "    --replace-all         replace all matching variables: name value [value_regex]\n",
            "    --add                 add a new variable: name value\n",
            "    --unset               remove a variable: name [value-regex]\n",
            "    --unset-all           remove all matches: name [value-regex]\n",
            "    --rename-section      rename section: old-name new-name\n",
            "    --remove-section      remove a section: name\n",
            "    -l, --list            list all\n",
            "    -e, --edit            open an editor\n",
            "    --get-color           find the color configured: slot [default]\n",
            "    --get-colorbool       find the color setting: slot [stdout-is-tty]\n",
            "\n",
            "Type\n",
            "    --bool                value is \"true\" or \"false\"\n",
            "    --int                 value is decimal number\n",
            "    --bool-or-int         value is --bool or --int\n",
            "    --path                value is a path (file or directory name)\n",
            "    --expiry-date         value is an expiry date\n",
            "\n",
            "Other\n",
            "    -z, --null            terminate values with NUL byte\n",
            "    --name-only           show variable names only\n",
            "    --includes            respect include directives on lookup\n",
            "    --show-origin         show origin of config (file, standard input, blob, command line)\n",
            "\n"
          ],
          "name": "stdout"
        }
      ]
    },
    {
      "cell_type": "code",
      "metadata": {
        "id": "pD0KVg-LFS4E",
        "colab_type": "code",
        "colab": {
          "base_uri": "https://localhost:8080/",
          "height": 51
        },
        "outputId": "e1e276e1-2495-47eb-bbac-fb47586420a5"
      },
      "source": [
        "!git push -u origin master"
      ],
      "execution_count": 12,
      "outputs": [
        {
          "output_type": "stream",
          "text": [
            "error: src refspec master does not match any.\n",
            "error: failed to push some refs to 'origin'\n"
          ],
          "name": "stdout"
        }
      ]
    },
    {
      "cell_type": "code",
      "metadata": {
        "id": "QkzWh5yOHv9e",
        "colab_type": "code",
        "colab": {
          "base_uri": "https://localhost:8080/",
          "height": 459
        },
        "outputId": "111810d0-f150-4829-e96c-35d5f667f73b"
      },
      "source": [
        "!echo \"# AI\" >> README.md\n",
        "!git init\n",
        "!git add README.md\n",
        "!git commit -m \"first commit\"\n",
        "# !git remote add origin https://github.com/hoaileba/AI.git\n",
        "# !git push -u origin master"
      ],
      "execution_count": 20,
      "outputs": [
        {
          "output_type": "stream",
          "text": [
            "Reinitialized existing Git repository in /content/.git/\n",
            "[master (root-commit) f0519a9] first commit\n",
            " 21 files changed, 50753 insertions(+)\n",
            " create mode 100644 .config/.last_opt_in_prompt.yaml\n",
            " create mode 100644 .config/.last_survey_prompt.yaml\n",
            " create mode 100644 .config/.last_update_check.json\n",
            " create mode 100644 .config/.metricsUUID\n",
            " create mode 100644 .config/active_config\n",
            " create mode 100644 .config/config_sentinel\n",
            " create mode 100644 .config/configurations/config_default\n",
            " create mode 100644 .config/gce\n",
            " create mode 100644 .config/logs/2020.04.03/16.23.40.043713.log\n",
            " create mode 100644 .config/logs/2020.04.03/16.23.57.403439.log\n",
            " create mode 100644 .config/logs/2020.04.03/16.24.09.722063.log\n",
            " create mode 100644 .config/logs/2020.04.03/16.24.13.655529.log\n",
            " create mode 100644 .config/logs/2020.04.03/16.24.26.483358.log\n",
            " create mode 100644 .config/logs/2020.04.03/16.24.26.990500.log\n",
            " create mode 100644 README.md\n",
            " create mode 100755 sample_data/README.md\n",
            " create mode 100755 sample_data/anscombe.json\n",
            " create mode 100644 sample_data/california_housing_test.csv\n",
            " create mode 100644 sample_data/california_housing_train.csv\n",
            " create mode 100644 sample_data/mnist_test.csv\n",
            " create mode 100644 sample_data/mnist_train_small.csv\n",
            "fatal: remote origin already exists.\n",
            "fatal: could not read Username for 'https://github.com': No such device or address\n"
          ],
          "name": "stdout"
        }
      ]
    },
    {
      "cell_type": "code",
      "metadata": {
        "id": "0k9aeWXhKV7d",
        "colab_type": "code",
        "colab": {}
      },
      "source": [
        "!git config --global user.email \"hoailebals@gmail.com\"\n",
        "!git config --global user.name \"hoaileba\""
      ],
      "execution_count": 0,
      "outputs": []
    },
    {
      "cell_type": "code",
      "metadata": {
        "id": "epm4-fdmKru_",
        "colab_type": "code",
        "colab": {}
      },
      "source": [
        "# !echo \"# AI\" >> AlexNet.ipynb\n",
        "# !git init\n",
        "!git add AlexNet.ipynb\n",
        "# !git commit -m \"first commit\"\n",
        "# !git remote add origin https://github.com/hoaileba/AI.git\n",
        "# !git push -u origin master"
      ],
      "execution_count": 0,
      "outputs": []
    }
  ]
}