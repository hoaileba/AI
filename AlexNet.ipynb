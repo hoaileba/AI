{
  "nbformat": 4,
  "nbformat_minor": 0,
  "metadata": {
    "colab": {
      "name": "AlexNet.ipynb",
      "provenance": [],
      "collapsed_sections": [],
      "authorship_tag": "ABX9TyO/1FoXVplOw86DZ1adG7l+",
      "include_colab_link": true
    },
    "kernelspec": {
      "name": "python3",
      "display_name": "Python 3"
    }
  },
  "cells": [
    {
      "cell_type": "markdown",
      "metadata": {
        "id": "view-in-github",
        "colab_type": "text"
      },
      "source": [
        "<a href=\"https://colab.research.google.com/github/hoaileba/AI/blob/master/AlexNet.ipynb\" target=\"_parent\"><img src=\"https://colab.research.google.com/assets/colab-badge.svg\" alt=\"Open In Colab\"/></a>"
      ]
    },
    {
      "cell_type": "code",
      "metadata": {
        "id": "Q-Z0a10Xq0p8",
        "colab_type": "code",
        "colab": {}
      },
      "source": [
        ""
      ],
      "execution_count": 0,
      "outputs": []
    },
    {
      "cell_type": "markdown",
      "metadata": {
        "id": "2YlBIaFhr1Cf",
        "colab_type": "text"
      },
      "source": [
        "#ALEXNET :\n",
        "\n",
        "Đây là 1 Kiến trúc của mạng CNN với số lượng tham số( params) lớn \n",
        "\n",
        "I) Kiến Trúc Của AlexNet:\n",
        "\n",
        "- AlexNet gồm có 8 layer : \n",
        "    \n",
        "    - Trong đó có 5 layer Convolution và 3 layer Fully connected kèm theo đó là các layer Maxpooling và layer Normalizetion\n",
        "    - 5 lớp convolution gồm\n",
        "      - 96 kernels of size 11 × 11 × 3 with step size 4\n",
        "      - 256 kernels of size 5 × 5 × 48* with step size 1\n",
        "      - 384 kernels of size 3 × 3 × 256 with step size 1\n",
        "      - 384 kernels of size 3 × 3 × 192* with step size 1\n",
        "      - 256 kernels of size 3 × 3 × 192* with step size 1\n",
        "    \n",
        "- AlextNet sử dụng hàm relu để thay thế cho những hàm activation như Tanh hoặc sigmod như LeNet vì khi sử dụng hàm này việc làm cho hiện tượng vanish gradient rất dễ xảy ra và cùng với đó hàm Relu khi được áp dụng tăng đáng kể thời gian huấn luyên \n",
        "- AlexNet sử dụng Local Response Normalization để chuẩn hóa làm tăng tốc độ hội tụ( nhưng hiện nay cũng ko còn dùng các LRN mà chuyển qua dùng là Batch Normalization) \n",
        "\n",
        "- \n",
        "\n",
        "\n"
      ]
    },
    {
      "cell_type": "markdown",
      "metadata": {
        "id": "HjhgGLVtCK6U",
        "colab_type": "text"
      },
      "source": [
        ""
      ]
    },
    {
      "cell_type": "code",
      "metadata": {
        "id": "0k9aeWXhKV7d",
        "colab_type": "code",
        "colab": {}
      },
      "source": [
        "!git config --global user.email \"hoailebals@gmail.com\"\n",
        "!git config --global user.name \"hoaileba\""
      ],
      "execution_count": 0,
      "outputs": []
    },
    {
      "cell_type": "code",
      "metadata": {
        "id": "epm4-fdmKru_",
        "colab_type": "code",
        "colab": {
          "base_uri": "https://localhost:8080/",
          "height": 102
        },
        "outputId": "09e07f71-982b-4b89-f802-538231ed9e91"
      },
      "source": [
        "# !echo \"# AI\" >> AlexNet.ipynb\n",
        "# !git init\n",
        "# !git add AlexNet.ipynb\n",
        "!git commit -m \"first commit\"\n",
        "# !git remote add origin https://github.com/hoaileba/AI.git\n",
        "# !git push -u origin master"
      ],
      "execution_count": 33,
      "outputs": [
        {
          "output_type": "stream",
          "text": [
            "On branch master\n",
            "Changes not staged for commit:\n",
            "\t\u001b[31mmodified:   AlexNet.ipynb\u001b[m\n",
            "\n",
            "no changes added to commit\n"
          ],
          "name": "stdout"
        }
      ]
    }
  ]
}