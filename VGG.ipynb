{
  "nbformat": 4,
  "nbformat_minor": 0,
  "metadata": {
    "colab": {
      "name": "VGG.ipynb",
      "provenance": [],
      "authorship_tag": "ABX9TyNajxJM9JIhO6DdwOwVsQpD",
      "include_colab_link": true
    },
    "kernelspec": {
      "name": "python3",
      "display_name": "Python 3"
    }
  },
  "cells": [
    {
      "cell_type": "markdown",
      "metadata": {
        "id": "view-in-github",
        "colab_type": "text"
      },
      "source": [
        "<a href=\"https://colab.research.google.com/github/hoaileba/AI/blob/master/VGG.ipynb\" target=\"_parent\"><img src=\"https://colab.research.google.com/assets/colab-badge.svg\" alt=\"Open In Colab\"/></a>"
      ]
    },
    {
      "cell_type": "code",
      "metadata": {
        "id": "DglmAxX3VaiF",
        "colab_type": "code",
        "colab": {}
      },
      "source": [
        ""
      ],
      "execution_count": 0,
      "outputs": []
    },
    {
      "cell_type": "code",
      "metadata": {
        "id": "E1E3yYIAVZol",
        "colab_type": "code",
        "colab": {}
      },
      "source": [
        ""
      ],
      "execution_count": 0,
      "outputs": []
    },
    {
      "cell_type": "markdown",
      "metadata": {
        "id": "4e5wLVHuVdXt",
        "colab_type": "text"
      },
      "source": [
        "# VGG\n",
        "\n",
        "Là 1 kiến trúc của mạng CNN được phát triển sau AlexNet nhưng deeper và đem lại kết quả khá cao trong nhận dang. VGG được phát triển có nhiểu biens thể nhưng được biết nhiều nhất là model có 16 layer và 19 layer hay thường đc biết là VGG16 và VGG19\n",
        "\n",
        "I)Mô Hình VGG:\n",
        "\n",
        "- Mô Hình VGG có rất nhiều phiên bản khác nhau mọi người có thể tham khảo ở hình ảnh bên dưới :\n",
        "\n",
        "![alt text](https://miro.medium.com/max/1400/1*lZTWFT36PXsZZK3HjZ3jFQ.png)\n",
        "\n",
        "\n",
        "\n",
        "Dùng những filter nhỏ hơn điều này có thể giảm đáng kể lượng tham số tham gia trong quá trình train\n",
        "\n",
        "và điều này xuất hiện trong VGG16 tuy có lượng tham số nhiều gấp đôi nhưng khi nhìn vào sâu hơn thì lượng filter và số lớp Convolution dồi dào hơn cực kì nhiều so với AlexNet và khiến cho mô hình VGG trở nên học sâu hơn + với việc các filter nhỏ làm cho quá trình lấy ra những đặc tính nó triệt để hơn nhiều thông tin hơn và điều này khiến mô hình tốt hơn \n",
        "tuy nhiên nhiều params quá cũng dẫn đến hệ quả là tốn nhiều bộ nhớ hơn để lưu trữ\n",
        "\n"
      ]
    }
  ]
}